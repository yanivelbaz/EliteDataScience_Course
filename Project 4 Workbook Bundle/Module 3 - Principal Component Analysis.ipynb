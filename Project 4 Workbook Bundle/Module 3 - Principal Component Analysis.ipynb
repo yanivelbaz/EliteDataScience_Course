{
 "cells": [
  {
   "cell_type": "markdown",
   "metadata": {},
   "source": [
    "<h1 style=\"font-size:42px; text-align:center; margin-bottom:30px;\"><span style=\"color:SteelBlue\">Module 3:</span> Principal Component Analysis</h1>\n",
    "<hr>\n",
    "\n",
    "Welcome to <span style=\"color:royalblue\">Module 3: Principal Component Analysis</span>!\n",
    "\n",
    "Principal Component Analysis, or PCA, is a popular dimensionality reduction technique.\n",
    "\n",
    "PCA seeks to create new features by finding linear combinations of your original ones. These new features, called **principal components**, are meant to maximize the **\"explained variance,\"** which we'll explain further in the module.\n",
    "\n",
    "* In this module, we'll prepare individual item features for our clustering algorithms, except this time we'll use PCA instead of thresholding.\n",
    "* PCA is especially effective when you have many correlated features.\n",
    "* Important: PCA creates new features that replace the original ones.\n",
    "\n",
    "\n",
    "<br><hr id=\"toc\">\n",
    "\n",
    "### In this module...\n",
    "\n",
    "In this module, we'll cover:\n",
    "1. [Toy example: oval blob](#oval-blob)\n",
    "2. [Principal components](#components)\n",
    "3. [Dimensionality reduction](#reduction)\n",
    "4. [Item data PCA](#item-data)\n",
    "5. [Explained variance](#explained-variance)\n",
    "\n",
    "<br><hr>"
   ]
  },
  {
   "cell_type": "markdown",
   "metadata": {},
   "source": [
    "### First, let's import libraries and load the item data.\n",
    "\n",
    "First, import libraries that you'll need."
   ]
  },
  {
   "cell_type": "code",
   "execution_count": 1,
   "metadata": {
    "collapsed": true
   },
   "outputs": [],
   "source": [
    "# NumPy for numerical computing\n",
    "import numpy as np\n",
    "\n",
    "# Pandas for DataFrames\n",
    "import pandas as pd\n",
    "pd.set_option('display.max_columns',100)\n",
    "\n",
    "# Matplotlib for visualization\n",
    "from matplotlib import pyplot as plt\n",
    "\n",
    "# display plots in the notebook\n",
    "%matplotlib inline\n",
    "\n",
    "# Seaborn for easier visualization\n",
    "import seaborn as sns\n",
    "\n",
    "# StandardScaler from Scikit-Learn\n",
    "from sklearn.preprocessing import StandardScaler\n",
    "\n",
    "# PCA from Scikit-Learn (added later)\n",
    "from sklearn.decomposition import PCA\n"
   ]
  },
  {
   "cell_type": "markdown",
   "metadata": {},
   "source": [
    "Next, let's import the full item data that we saved in the previous module (before applying thresholds).\n",
    "* Remember, we saved it as <code style=\"color:crimson\">'item_data.csv'</code>.\n",
    "* This time, we'll also pass in the argument <code style=\"color:steelblue\">index_col=0</code> to tell Pandas to treat the first column (CustomerID) as the index."
   ]
  },
  {
   "cell_type": "code",
   "execution_count": 2,
   "metadata": {},
   "outputs": [],
   "source": [
    "# Read item_data.csv\n",
    "item_data = pd.read_csv('project_files/item_data.csv', index_col=0)"
   ]
  },
  {
   "cell_type": "markdown",
   "metadata": {},
   "source": [
    "Just to confirm, this dataset should have 2574 features:"
   ]
  },
  {
   "cell_type": "code",
   "execution_count": 3,
   "metadata": {},
   "outputs": [
    {
     "data": {
      "text/plain": [
       "(414, 2574)"
      ]
     },
     "execution_count": 3,
     "metadata": {},
     "output_type": "execute_result"
    }
   ],
   "source": [
    "# Display item_data's shape\n",
    "item_data.shape"
   ]
  },
  {
   "cell_type": "markdown",
   "metadata": {},
   "source": [
    "<span id=\"oval-blob\"></span>\n",
    "# 1. Toy example: oval blob\n",
    "\n",
    "PCA is an elegant technique that's very practical, but it can be a bit hard to try it on our larger dataset right away.\n",
    "\n",
    "Instead, let's first use one last toy example to break down the intuition behind PCA.\n",
    "\n",
    "<br>\n",
    "**First, we'll create an \"oval blob\" synthetic dataset.**\n",
    "* Instead of both input features and a target variable, we'll only have 2 input features.\n",
    "* $x_1$ will be random samples from a normal distribution.\n",
    "* $x_2$ will be random samples from a normal distribution **plus $x_1$**."
   ]
  },
  {
   "cell_type": "code",
   "execution_count": 20,
   "metadata": {},
   "outputs": [],
   "source": [
    "# Set random seed\n",
    "np.random.seed(101)\n",
    "\n",
    "# Create first feature: x1\n",
    "x1 = np.random.normal(0, 1, 100)\n",
    "\n",
    "# Create second feature: x2\n",
    "x2 = np.random.normal(0, 1, 100) + x1"
   ]
  },
  {
   "cell_type": "markdown",
   "metadata": {},
   "source": [
    "**Let's stack them together to form <code style=\"color:steelblue\">X</code>, our input feature matrix.**\n",
    "* We'll skip putting them in a Pandas DataFrame.\n",
    "* Instead, we'll just stack them together as two separate columns in a matrix."
   ]
  },
  {
   "cell_type": "code",
   "execution_count": 21,
   "metadata": {
    "scrolled": true
   },
   "outputs": [
    {
     "data": {
      "text/plain": [
       "(100, 2)"
      ]
     },
     "execution_count": 21,
     "metadata": {},
     "output_type": "execute_result"
    }
   ],
   "source": [
    "# Stack together as columns\n",
    "X = np.stack([x1, x2],axis=1)\n",
    "\n",
    "# Print shape of X\n",
    "X.shape"
   ]
  },
  {
   "cell_type": "markdown",
   "metadata": {},
   "source": [
    "**Create a scaled version of your feature matrix and name it <code style=\"color:steelblue\">X_scaled</code>.**\n",
    "* You'll want to use <code style=\"color:steelblue\">StandardScaler</code>.\n",
    "* **Tip:** To fit and apply a transformation in one line of code, you can use the <code style=\"color:steelblue\">.fit_transform()</code> function.\n",
    "* Then, display the first 5 rows. \n",
    "    * You can't use <code style=\"color:steelblue\">.head()</code> because it's not a dataframe.\n",
    "    * You must **index/slice the array** instead."
   ]
  },
  {
   "cell_type": "code",
   "execution_count": 22,
   "metadata": {},
   "outputs": [
    {
     "data": {
      "text/plain": [
       "array([[ 2.45737416,  2.76968241],\n",
       "       [ 0.44665735, -0.38363275],\n",
       "       [ 0.71733989, -0.37695455],\n",
       "       [ 0.3264168 , -0.60579169],\n",
       "       [ 0.46889068,  0.39146426]])"
      ]
     },
     "execution_count": 22,
     "metadata": {},
     "output_type": "execute_result"
    }
   ],
   "source": [
    "# Initialize instance of StandardScaler\n",
    "scaler = StandardScaler()\n",
    "\n",
    "# Fit and transform X\n",
    "X_scaled = scaler.fit_transform(X)\n",
    "\n",
    "# Display first 5 rows of X_scaled\n",
    "X_scaled[:5]"
   ]
  },
  {
   "cell_type": "markdown",
   "metadata": {},
   "source": [
    "**Plot a scatterplot of the scaled $x_1$ against the scaled $x_2$.**\n",
    "* Label your axes as <code style=\"color:crimson\">x1 (scaled)</code> and <code style=\"color:crimson\">x2 (scaled)</code>.\n",
    "* **Tip:** Call <code style=\"color:steelblue\">plt.axis('equal')</code> after your scatterplot to put your plot's axes on the same scale.\n",
    "* We have a recommended plot below. See the Answer Key for how to create it."
   ]
  },
  {
   "cell_type": "code",
   "execution_count": 23,
   "metadata": {},
   "outputs": [
    {
     "data": {
      "image/png": "[encoded data removed]",
      "text/plain": [
       "<matplotlib.figure.Figure at 0xcf1c860>"
      ]
     },
     "metadata": {},
     "output_type": "display_data"
    }
   ],
   "source": [
    "# Plot scatterplot of scaled x1 against scaled x2\n",
    "plt.scatter(X_scaled[:,0], X_scaled[:,1])\n",
    "\n",
    "# Put plot axes on the same scale\n",
    "plt.axis('equal')\n",
    "\n",
    "# Label axes\n",
    "plt.xlabel('x1 (scaled)')\n",
    "plt.ylabel('x2 (scaled)')\n",
    "\n",
    "# Clear text residue\n",
    "plt.show()"
   ]
  },
  {
   "cell_type": "markdown",
   "metadata": {},
   "source": [
    "<p style=\"text-align:center; margin: 40px 0 40px 0; font-weight:bold\">\n",
    "<a href=\"#toc\">Back to Contents</a>\n",
    "</p>"
   ]
  },
  {
   "cell_type": "markdown",
   "metadata": {},
   "source": [
    "<span id=\"components\"></span>\n",
    "# 2. Principal components\n",
    "\n",
    "As it turns out, this type of distribution is very helpful for visualizing the mechanics behind PCA.\n",
    "\n",
    "<br>\n",
    "**First, add the following import line to your library imports above. Then, re-run that code cell.**\n",
    "\n",
    "<pre style=\"color:steelblue\">\n",
    "from sklearn.decomposition import PCA\n",
    "</pre>\n",
    "\n",
    "<br>\n",
    "**Next, we can initialize an instance of the PCA transformation.**\n",
    "* This is just as we did for the StandardScaler transformation. \n",
    "* Then, we can fit the instance with just one line of code."
   ]
  },
  {
   "cell_type": "code",
   "execution_count": 24,
   "metadata": {},
   "outputs": [
    {
     "data": {
      "text/plain": [
       "PCA(copy=True, iterated_power='auto', n_components=None, random_state=None,\n",
       "  svd_solver='auto', tol=0.0, whiten=False)"
      ]
     },
     "execution_count": 24,
     "metadata": {},
     "output_type": "execute_result"
    }
   ],
   "source": [
    "# Initialize instance of PCA transformation\n",
    "pca = PCA() \n",
    "\n",
    "# Fit the instance\n",
    "pca.fit(X_scaled)"
   ]
  },
  {
   "cell_type": "markdown",
   "metadata": {},
   "source": [
    "**Let's display the principal components.**"
   ]
  },
  {
   "cell_type": "code",
   "execution_count": 25,
   "metadata": {
    "scrolled": true
   },
   "outputs": [
    {
     "data": {
      "text/plain": [
       "array([[ 0.70710678,  0.70710678],\n",
       "       [-0.70710678,  0.70710678]])"
      ]
     },
     "execution_count": 25,
     "metadata": {},
     "output_type": "execute_result"
    }
   ],
   "source": [
    "# Display principal components\n",
    "pca.components_"
   ]
  },
  {
   "cell_type": "markdown",
   "metadata": {},
   "source": [
    "**Next, let's overlay the principal components on our oval blob.**\n",
    "* We'll make the oval blob semi-transparent so we can see the principal components more easily.\n",
    "* For clarity, we'll plot the first principal component in **black**, and we'll make it twice as long.\n",
    "* We'll plot the first principal component in <strong style=\"color:red\">red</strong>."
   ]
  },
  {
   "cell_type": "code",
   "execution_count": 38,
   "metadata": {},
   "outputs": [
    {
     "data": {
      "image/png": "[encoded data removed]",
      "text/plain": [
       "<matplotlib.figure.Figure at 0xdd3b908>"
      ]
     },
     "metadata": {},
     "output_type": "display_data"
    }
   ],
   "source": [
    "# Plot scaled dataset and make it partially transparent\n",
    "plt.scatter(X_scaled[:,0], X_scaled[:,1], alpha=.4)\n",
    "\n",
    "# Plot first principal component in black\n",
    "plt.plot([0,2*pca.components_[0,0]], [0,2*pca.components_[0,1]], 'k')\n",
    "\n",
    "# Plot second principal component in red\n",
    "plt.plot([0,pca.components_[1,0]], [0,pca.components_[1,1]], 'r')\n",
    "\n",
    "# Set axes\n",
    "plt.xlabel('x1')\n",
    "plt.ylabel('x2')\n",
    "plt.axis('equal')\n",
    "# Clear text residue\n",
    "plt.show()"
   ]
  },
  {
   "cell_type": "markdown",
   "metadata": {},
   "source": [
    "**Finally, we can transform our original features using the fitted PCA instance.**\n",
    "* Remember, PCA generates new features that **replace** the original ones.\n",
    "* We'll name these new features <code style=\"color:crimson\">PC</code> (short for \"principal component\") to indicate that they are generated from PCA."
   ]
  },
  {
   "cell_type": "code",
   "execution_count": 53,
   "metadata": {},
   "outputs": [
    {
     "data": {
      "text/plain": [
       "array([[ 0.70710678,  0.70710678],\n",
       "       [-0.70710678,  0.70710678]])"
      ]
     },
     "execution_count": 53,
     "metadata": {},
     "output_type": "execute_result"
    }
   ],
   "source": [
    "# Generate new features\n",
    "PC = pca.transform(X_scaled)\n",
    "pca.components_"
   ]
  },
  {
   "cell_type": "code",
   "execution_count": 54,
   "metadata": {},
   "outputs": [
    {
     "data": {
      "image/png": "[encoded data removed]",
      "text/plain": [
       "<matplotlib.figure.Figure at 0xdcfde10>"
      ]
     },
     "metadata": {},
     "output_type": "display_data"
    }
   ],
   "source": [
    "# Plot transformed dataset\n",
    "plt.scatter(PC[:,0], PC[:,1], alpha=.4)\n",
    "\n",
    "# Plot first principal component in black\n",
    "plt.plot([0,2],[0,0], 'k')\n",
    "\n",
    "# Plot second principal component in red\n",
    "plt.plot([0,0],[0,1], 'r')\n",
    "\n",
    "# Set axes\n",
    "plt.xlabel('x1')\n",
    "plt.ylabel('x2')\n",
    "plt.axis('equal')\n",
    "# Clear text residue\n",
    "plt.show()\n",
    "\n"
   ]
  },
  {
   "cell_type": "markdown",
   "metadata": {},
   "source": [
    "<p style=\"text-align:center; margin: 40px 0 40px 0; font-weight:bold\">\n",
    "<a href=\"#toc\">Back to Contents</a>\n",
    "</p>"
   ]
  },
  {
   "cell_type": "markdown",
   "metadata": {},
   "source": [
    "<span id=\"reduction\"></span>\n",
    "# 3. Dimensionality reduction\n",
    "\n",
    "Here's where dimensionality reduction comes into play. You can just keep some number of the \"best\" components, a.k.a. the ones that explain the most variance.\n",
    "\n",
    "<br>\n",
    "**First, display the \"explained variance\" ratio of each component.**"
   ]
  },
  {
   "cell_type": "code",
   "execution_count": 55,
   "metadata": {},
   "outputs": [
    {
     "data": {
      "text/plain": [
       "array([ 0.86915841,  0.13084159])"
      ]
     },
     "execution_count": 55,
     "metadata": {},
     "output_type": "execute_result"
    }
   ],
   "source": [
    "# Display explained variance ratio\n",
    "pca.explained_variance_ratio_"
   ]
  },
  {
   "cell_type": "markdown",
   "metadata": {},
   "source": [
    "**To keep only 1 component, we can simply initialize and fit another PCA transformation.**\n",
    "* This time, we'll simply pass the argument <code style=\"color:steelblue\">n_components=1</code>."
   ]
  },
  {
   "cell_type": "code",
   "execution_count": 56,
   "metadata": {},
   "outputs": [
    {
     "data": {
      "text/plain": [
       "PCA(copy=True, iterated_power='auto', n_components=1, random_state=None,\n",
       "  svd_solver='auto', tol=0.0, whiten=False)"
      ]
     },
     "execution_count": 56,
     "metadata": {},
     "output_type": "execute_result"
    }
   ],
   "source": [
    "# Initialize and fit a PCA transformation, only keeping 1 component\n",
    "pca = PCA(n_components=1)\n",
    "pca.fit(X_scaled)"
   ]
  },
  {
   "cell_type": "code",
   "execution_count": 57,
   "metadata": {},
   "outputs": [
    {
     "data": {
      "text/plain": [
       "array([[ 0.70710678,  0.70710678]])"
      ]
     },
     "execution_count": 57,
     "metadata": {},
     "output_type": "execute_result"
    }
   ],
   "source": [
    "# Display principal components\n",
    "pca.components_"
   ]
  },
  {
   "cell_type": "code",
   "execution_count": 58,
   "metadata": {},
   "outputs": [
    {
     "data": {
      "text/plain": [
       "(100, 1)"
      ]
     },
     "execution_count": 58,
     "metadata": {},
     "output_type": "execute_result"
    }
   ],
   "source": [
    "# Generate new features\n",
    "PC1 = pca.transform(X_scaled)\n",
    "PC1.shape"
   ]
  },
  {
   "cell_type": "code",
   "execution_count": 60,
   "metadata": {},
   "outputs": [
    {
     "data": {
      "image/png": "[encoded data removed]",
      "text/plain": [
       "<matplotlib.figure.Figure at 0xc938b00>"
      ]
     },
     "metadata": {},
     "output_type": "display_data"
    }
   ],
   "source": [
    "# Plot transformed dataset\n",
    "plt.scatter(PC1[:,0], len(PC)*[0], alpha=.4)\n",
    "\n",
    "# Plot first principal component in black\n",
    "plt.plot([0,2], [0,0], 'k')\n",
    "\n",
    "# Set axes\n",
    "plt.xlabel('PC1')\n",
    "plt.axis('equal')\n",
    "# Clear text residue\n",
    "plt.show()"
   ]
  },
  {
   "cell_type": "markdown",
   "metadata": {},
   "source": [
    "<p style=\"text-align:center; margin: 40px 0 40px 0; font-weight:bold\">\n",
    "<a href=\"#toc\">Back to Contents</a>\n",
    "</p>"
   ]
  },
  {
   "cell_type": "markdown",
   "metadata": {},
   "source": [
    "<span id=\"item-data\"></span>\n",
    "# 4. Item data PCA\n",
    "\n",
    "Now let's get back to our project.\n",
    "\n",
    "<br>\n",
    "**First, scale <code style=\"color:crimson\">item_data</code>, which you imported at the beginning of this module.**\n",
    "* Name the scaled dataset <code style=\"color:crimson\">item_data_scaled</code>.\n",
    "* Then, display the first 5 rows. \n",
    "    * You can't use <code style=\"color:steelblue\">.head()</code> because it's not a dataframe.\n",
    "    * You must **index/slice the array** instead."
   ]
  },
  {
   "cell_type": "code",
   "execution_count": 63,
   "metadata": {},
   "outputs": [
    {
     "data": {
      "text/plain": [
       "array([[-0.13303802, -0.04920678, -0.1119152 , ..., -0.10482848,\n",
       "        -0.15568183, -0.68068072],\n",
       "       [-0.13303802, -0.04920678, -0.1119152 , ..., -0.10482848,\n",
       "        -0.15568183,  0.38776219],\n",
       "       [-0.13303802, -0.04920678, -0.1119152 , ..., -0.10482848,\n",
       "        -0.15568183, -0.41356999],\n",
       "       [-0.13303802, -0.04920678, -0.1119152 , ..., -0.10482848,\n",
       "        -0.15568183, -0.41356999],\n",
       "       [-0.13303802, -0.04920678, -0.1119152 , ..., -0.10482848,\n",
       "         5.53128397,  0.65487292]])"
      ]
     },
     "execution_count": 63,
     "metadata": {},
     "output_type": "execute_result"
    }
   ],
   "source": [
    "# Initialize instance of StandardScaler\n",
    "scaler = StandardScaler()\n",
    "\n",
    "# Fit and transform item_data\n",
    "item_data_scaled = scaler.fit_transform(item_data)\n",
    "\n",
    "# Display first 5 rows of item_data_scaled\n",
    "item_data_scaled[:5]"
   ]
  },
  {
   "cell_type": "markdown",
   "metadata": {},
   "source": [
    "**Next, initialize and fit an instance of the PCA transformation.**\n",
    "* Keep all of the components for now (just don't pass in any argument)."
   ]
  },
  {
   "cell_type": "code",
   "execution_count": 64,
   "metadata": {},
   "outputs": [
    {
     "data": {
      "text/plain": [
       "PCA(copy=True, iterated_power='auto', n_components=None, random_state=None,\n",
       "  svd_solver='auto', tol=0.0, whiten=False)"
      ]
     },
     "execution_count": 64,
     "metadata": {},
     "output_type": "execute_result"
    }
   ],
   "source": [
    "# Initialize and fit a PCA transformation\n",
    "pca = PCA()\n",
    "pca.fit(item_data_scaled)\n"
   ]
  },
  {
   "cell_type": "markdown",
   "metadata": {},
   "source": [
    "**Finally, generate new \"principal component features\" from <code style=\"color:crimson\">item_data_scaled</code>.**\n",
    "* Name the new array <code style=\"color:crimson\">PC_items</code>.\n",
    "* Then, display the first 5 rows."
   ]
  },
  {
   "cell_type": "code",
   "execution_count": 65,
   "metadata": {},
   "outputs": [
    {
     "data": {
      "text/plain": [
       "array([[  5.87614052e+00,   4.82891689e+00,  -4.95545069e-01, ...,\n",
       "         -6.62646278e-04,  -4.43629806e-05,   3.41393580e-15],\n",
       "       [ -4.21983747e+00,   1.22621722e+00,  -1.88191211e+00, ...,\n",
       "         -2.11471782e-04,  -2.69154340e-04,  -3.15372728e-15],\n",
       "       [ -1.26084676e+00,   2.38766371e+00,  -7.31483440e-02, ...,\n",
       "          2.57750179e-04,  -2.05682324e-04,  -6.81746326e-16],\n",
       "       [ -4.92931983e+00,  -7.14858724e-01,  -1.58093026e+00, ...,\n",
       "         -1.98603886e-03,   9.92316312e-05,  -1.44155521e-15],\n",
       "       [ -2.05311348e+00,   2.11095022e+00,   1.84807021e-01, ...,\n",
       "         -3.43415269e-04,  -1.32981672e-04,   4.44089210e-15]])"
      ]
     },
     "execution_count": 65,
     "metadata": {},
     "output_type": "execute_result"
    }
   ],
   "source": [
    "# Generate new features\n",
    "pc_items = pca.transform(item_data_scaled)\n",
    "\n",
    "# Display first 5 rows\n",
    "pc_items[:5]"
   ]
  },
  {
   "cell_type": "markdown",
   "metadata": {},
   "source": [
    "<p style=\"text-align:center; margin: 40px 0 40px 0; font-weight:bold\">\n",
    "<a href=\"#toc\">Back to Contents</a>\n",
    "</p>"
   ]
  },
  {
   "cell_type": "markdown",
   "metadata": {},
   "source": [
    "<span id=\"explained-variance\"></span>\n",
    "# 5. Explained variance\n",
    "\n",
    "Earlier, we already saw how to display the **explained variance ratio** for each of the principal components.\n",
    "\n",
    "<br>\n",
    "**It's very helpful to calculate and plot the <u>cumulative</u> explained variance.**\n",
    "* This will tell us the total amount of variance we'd capture if we kept up to the n-th component.\n",
    "* First, we'll use <code style=\"color:steelblue\">np.cumsum()</code> to calculate the cumulative explained variance.\n",
    "* Then, we'll plot it so we can see how many $PC$ features we'd need to keep in order to capture most of the original variance."
   ]
  },
  {
   "cell_type": "code",
   "execution_count": 81,
   "metadata": {},
   "outputs": [
    {
     "data": {
      "text/plain": [
       "[<matplotlib.lines.Line2D at 0xc80b0f0>]"
      ]
     },
     "execution_count": 81,
     "metadata": {},
     "output_type": "execute_result"
    },
    {
     "data": {
      "image/png": "[encoded data removed]",
      "text/plain": [
       "<matplotlib.figure.Figure at 0xc835470>"
      ]
     },
     "metadata": {},
     "output_type": "display_data"
    }
   ],
   "source": [
    "# Cumulative explained variance\n",
    "cumul = np.cumsum(pca.explained_variance_ratio_)\n",
    "\n",
    "# Plot cumulative explained variance\n",
    "plt.plot(range(len(cumul)), cumul)"
   ]
  },
  {
   "cell_type": "code",
   "execution_count": 86,
   "metadata": {},
   "outputs": [
    {
     "data": {
      "text/plain": [
       "0.7955069032205403"
      ]
     },
     "execution_count": 86,
     "metadata": {},
     "output_type": "execute_result"
    }
   ],
   "source": [
    "# How much variance we'd capture with the first 125 components\n",
    "cumul[124]"
   ]
  },
  {
   "cell_type": "markdown",
   "metadata": {},
   "source": [
    "**Initialize and fit another PCA transformation.**\n",
    "* This time, only keep 125 components.\n",
    "* Generate the principal component features from the fitted instance and name the new matrix <code style=\"color:crimson\">PC_items</code>.\n",
    "* Then, display the shape of <code style=\"color:crimson\">PC_items</code> to confirm it only has 125 features."
   ]
  },
  {
   "cell_type": "code",
   "execution_count": 91,
   "metadata": {},
   "outputs": [
    {
     "data": {
      "text/plain": [
       "(414, 125)"
      ]
     },
     "execution_count": 91,
     "metadata": {},
     "output_type": "execute_result"
    }
   ],
   "source": [
    "# Initialize PCA transformation, only keeping 125 components\n",
    "pca = PCA(n_components=125)\n",
    "\n",
    "# Fit and transform item_data_scaled\n",
    "PC_items = pca.fit_transform(item_data_scaled)\n",
    "\n",
    "# Display shape of PC_items\n",
    "PC_items.shape"
   ]
  },
  {
   "cell_type": "markdown",
   "metadata": {},
   "source": [
    "**Next, for convenience, let's put <code style=\"color:crimson\">PC_items</code> into a new dataframe.**\n",
    "* We'll also name the columns and update its index to be the same as the orginal <code style=\"color:crimson\">item_data</code>'s index."
   ]
  },
  {
   "cell_type": "code",
   "execution_count": 95,
   "metadata": {},
   "outputs": [
    {
     "name": "stdout",
     "output_type": "stream",
     "text": [
      "(414, 125)\n",
      "(414, 2574)\n"
     ]
    },
    {
     "data": {
      "text/html": [
       "<div>\n",
       "<style>\n",
       "    .dataframe thead tr:only-child th {\n",
       "        text-align: right;\n",
       "    }\n",
       "\n",
       "    .dataframe thead th {\n",
       "        text-align: left;\n",
       "    }\n",
       "\n",
       "    .dataframe tbody tr th {\n",
       "        vertical-align: top;\n",
       "    }\n",
       "</style>\n",
       "<table border=\"1\" class=\"dataframe\">\n",
       "  <thead>\n",
       "    <tr style=\"text-align: right;\">\n",
       "      <th></th>\n",
       "      <th>PC1</th>\n",
       "      <th>PC2</th>\n",
       "      <th>PC3</th>\n",
       "      <th>PC4</th>\n",
       "      <th>PC5</th>\n",
       "      <th>PC6</th>\n",
       "      <th>PC7</th>\n",
       "      <th>PC8</th>\n",
       "      <th>PC9</th>\n",
       "      <th>PC10</th>\n",
       "      <th>PC11</th>\n",
       "      <th>PC12</th>\n",
       "      <th>PC13</th>\n",
       "      <th>PC14</th>\n",
       "      <th>PC15</th>\n",
       "      <th>PC16</th>\n",
       "      <th>PC17</th>\n",
       "      <th>PC18</th>\n",
       "      <th>PC19</th>\n",
       "      <th>PC20</th>\n",
       "      <th>PC21</th>\n",
       "      <th>PC22</th>\n",
       "      <th>PC23</th>\n",
       "      <th>PC24</th>\n",
       "      <th>PC25</th>\n",
       "      <th>PC26</th>\n",
       "      <th>PC27</th>\n",
       "      <th>PC28</th>\n",
       "      <th>PC29</th>\n",
       "      <th>PC30</th>\n",
       "      <th>PC31</th>\n",
       "      <th>PC32</th>\n",
       "      <th>PC33</th>\n",
       "      <th>PC34</th>\n",
       "      <th>PC35</th>\n",
       "      <th>PC36</th>\n",
       "      <th>PC37</th>\n",
       "      <th>PC38</th>\n",
       "      <th>PC39</th>\n",
       "      <th>PC40</th>\n",
       "      <th>PC41</th>\n",
       "      <th>PC42</th>\n",
       "      <th>PC43</th>\n",
       "      <th>PC44</th>\n",
       "      <th>PC45</th>\n",
       "      <th>PC46</th>\n",
       "      <th>PC47</th>\n",
       "      <th>PC48</th>\n",
       "      <th>PC49</th>\n",
       "      <th>PC50</th>\n",
       "      <th>...</th>\n",
       "      <th>PC76</th>\n",
       "      <th>PC77</th>\n",
       "      <th>PC78</th>\n",
       "      <th>PC79</th>\n",
       "      <th>PC80</th>\n",
       "      <th>PC81</th>\n",
       "      <th>PC82</th>\n",
       "      <th>PC83</th>\n",
       "      <th>PC84</th>\n",
       "      <th>PC85</th>\n",
       "      <th>PC86</th>\n",
       "      <th>PC87</th>\n",
       "      <th>PC88</th>\n",
       "      <th>PC89</th>\n",
       "      <th>PC90</th>\n",
       "      <th>PC91</th>\n",
       "      <th>PC92</th>\n",
       "      <th>PC93</th>\n",
       "      <th>PC94</th>\n",
       "      <th>PC95</th>\n",
       "      <th>PC96</th>\n",
       "      <th>PC97</th>\n",
       "      <th>PC98</th>\n",
       "      <th>PC99</th>\n",
       "      <th>PC100</th>\n",
       "      <th>PC101</th>\n",
       "      <th>PC102</th>\n",
       "      <th>PC103</th>\n",
       "      <th>PC104</th>\n",
       "      <th>PC105</th>\n",
       "      <th>PC106</th>\n",
       "      <th>PC107</th>\n",
       "      <th>PC108</th>\n",
       "      <th>PC109</th>\n",
       "      <th>PC110</th>\n",
       "      <th>PC111</th>\n",
       "      <th>PC112</th>\n",
       "      <th>PC113</th>\n",
       "      <th>PC114</th>\n",
       "      <th>PC115</th>\n",
       "      <th>PC116</th>\n",
       "      <th>PC117</th>\n",
       "      <th>PC118</th>\n",
       "      <th>PC119</th>\n",
       "      <th>PC120</th>\n",
       "      <th>PC121</th>\n",
       "      <th>PC122</th>\n",
       "      <th>PC123</th>\n",
       "      <th>PC124</th>\n",
       "      <th>PC125</th>\n",
       "    </tr>\n",
       "    <tr>\n",
       "      <th>CustomerID</th>\n",
       "      <th></th>\n",
       "      <th></th>\n",
       "      <th></th>\n",
       "      <th></th>\n",
       "      <th></th>\n",
       "      <th></th>\n",
       "      <th></th>\n",
       "      <th></th>\n",
       "      <th></th>\n",
       "      <th></th>\n",
       "      <th></th>\n",
       "      <th></th>\n",
       "      <th></th>\n",
       "      <th></th>\n",
       "      <th></th>\n",
       "      <th></th>\n",
       "      <th></th>\n",
       "      <th></th>\n",
       "      <th></th>\n",
       "      <th></th>\n",
       "      <th></th>\n",
       "      <th></th>\n",
       "      <th></th>\n",
       "      <th></th>\n",
       "      <th></th>\n",
       "      <th></th>\n",
       "      <th></th>\n",
       "      <th></th>\n",
       "      <th></th>\n",
       "      <th></th>\n",
       "      <th></th>\n",
       "      <th></th>\n",
       "      <th></th>\n",
       "      <th></th>\n",
       "      <th></th>\n",
       "      <th></th>\n",
       "      <th></th>\n",
       "      <th></th>\n",
       "      <th></th>\n",
       "      <th></th>\n",
       "      <th></th>\n",
       "      <th></th>\n",
       "      <th></th>\n",
       "      <th></th>\n",
       "      <th></th>\n",
       "      <th></th>\n",
       "      <th></th>\n",
       "      <th></th>\n",
       "      <th></th>\n",
       "      <th></th>\n",
       "      <th></th>\n",
       "      <th></th>\n",
       "      <th></th>\n",
       "      <th></th>\n",
       "      <th></th>\n",
       "      <th></th>\n",
       "      <th></th>\n",
       "      <th></th>\n",
       "      <th></th>\n",
       "      <th></th>\n",
       "      <th></th>\n",
       "      <th></th>\n",
       "      <th></th>\n",
       "      <th></th>\n",
       "      <th></th>\n",
       "      <th></th>\n",
       "      <th></th>\n",
       "      <th></th>\n",
       "      <th></th>\n",
       "      <th></th>\n",
       "      <th></th>\n",
       "      <th></th>\n",
       "      <th></th>\n",
       "      <th></th>\n",
       "      <th></th>\n",
       "      <th></th>\n",
       "      <th></th>\n",
       "      <th></th>\n",
       "      <th></th>\n",
       "      <th></th>\n",
       "      <th></th>\n",
       "      <th></th>\n",
       "      <th></th>\n",
       "      <th></th>\n",
       "      <th></th>\n",
       "      <th></th>\n",
       "      <th></th>\n",
       "      <th></th>\n",
       "      <th></th>\n",
       "      <th></th>\n",
       "      <th></th>\n",
       "      <th></th>\n",
       "      <th></th>\n",
       "      <th></th>\n",
       "      <th></th>\n",
       "      <th></th>\n",
       "      <th></th>\n",
       "      <th></th>\n",
       "      <th></th>\n",
       "      <th></th>\n",
       "      <th></th>\n",
       "    </tr>\n",
       "  </thead>\n",
       "  <tbody>\n",
       "    <tr>\n",
       "      <th>12347</th>\n",
       "      <td>5.876141</td>\n",
       "      <td>4.828917</td>\n",
       "      <td>-0.495520</td>\n",
       "      <td>3.093817</td>\n",
       "      <td>-0.633708</td>\n",
       "      <td>-11.534084</td>\n",
       "      <td>2.161867</td>\n",
       "      <td>7.116915</td>\n",
       "      <td>5.336035</td>\n",
       "      <td>4.424213</td>\n",
       "      <td>4.636869</td>\n",
       "      <td>2.316706</td>\n",
       "      <td>12.310705</td>\n",
       "      <td>1.986308</td>\n",
       "      <td>-11.431522</td>\n",
       "      <td>5.617799</td>\n",
       "      <td>-2.177107</td>\n",
       "      <td>7.666105</td>\n",
       "      <td>-12.135046</td>\n",
       "      <td>-16.048437</td>\n",
       "      <td>-5.949357</td>\n",
       "      <td>7.814667</td>\n",
       "      <td>40.517965</td>\n",
       "      <td>-35.573959</td>\n",
       "      <td>-17.558449</td>\n",
       "      <td>6.870565</td>\n",
       "      <td>20.886988</td>\n",
       "      <td>2.297317</td>\n",
       "      <td>-26.157811</td>\n",
       "      <td>-32.582580</td>\n",
       "      <td>7.874842</td>\n",
       "      <td>12.357173</td>\n",
       "      <td>6.824944</td>\n",
       "      <td>-32.957841</td>\n",
       "      <td>-4.408964</td>\n",
       "      <td>-17.236616</td>\n",
       "      <td>-11.270894</td>\n",
       "      <td>-14.488724</td>\n",
       "      <td>-2.775591</td>\n",
       "      <td>4.727806</td>\n",
       "      <td>-6.982853</td>\n",
       "      <td>-1.468485</td>\n",
       "      <td>10.604515</td>\n",
       "      <td>1.233745</td>\n",
       "      <td>3.087750</td>\n",
       "      <td>5.339555</td>\n",
       "      <td>-0.425263</td>\n",
       "      <td>1.640998</td>\n",
       "      <td>-6.375707</td>\n",
       "      <td>3.056444</td>\n",
       "      <td>...</td>\n",
       "      <td>2.417069</td>\n",
       "      <td>2.397380</td>\n",
       "      <td>-0.941841</td>\n",
       "      <td>-1.771471</td>\n",
       "      <td>-1.891056</td>\n",
       "      <td>1.426720</td>\n",
       "      <td>0.514714</td>\n",
       "      <td>-1.329238</td>\n",
       "      <td>-2.070995</td>\n",
       "      <td>-3.567318</td>\n",
       "      <td>0.420106</td>\n",
       "      <td>-1.873773</td>\n",
       "      <td>0.608644</td>\n",
       "      <td>0.225148</td>\n",
       "      <td>1.247913</td>\n",
       "      <td>-2.008220</td>\n",
       "      <td>0.508903</td>\n",
       "      <td>0.004995</td>\n",
       "      <td>-0.315268</td>\n",
       "      <td>0.493796</td>\n",
       "      <td>-0.405389</td>\n",
       "      <td>-0.400921</td>\n",
       "      <td>0.165516</td>\n",
       "      <td>0.615358</td>\n",
       "      <td>-0.013867</td>\n",
       "      <td>1.057333</td>\n",
       "      <td>-0.975530</td>\n",
       "      <td>-0.679759</td>\n",
       "      <td>-0.081903</td>\n",
       "      <td>1.241244</td>\n",
       "      <td>-0.159342</td>\n",
       "      <td>-0.270531</td>\n",
       "      <td>-0.371727</td>\n",
       "      <td>1.309280</td>\n",
       "      <td>-0.349017</td>\n",
       "      <td>0.671297</td>\n",
       "      <td>0.586811</td>\n",
       "      <td>0.958931</td>\n",
       "      <td>-0.049154</td>\n",
       "      <td>0.002232</td>\n",
       "      <td>0.302355</td>\n",
       "      <td>-0.472515</td>\n",
       "      <td>0.476504</td>\n",
       "      <td>-0.224732</td>\n",
       "      <td>-0.200536</td>\n",
       "      <td>-0.027148</td>\n",
       "      <td>-0.042364</td>\n",
       "      <td>-0.423895</td>\n",
       "      <td>0.035813</td>\n",
       "      <td>-0.008695</td>\n",
       "    </tr>\n",
       "    <tr>\n",
       "      <th>12348</th>\n",
       "      <td>-4.219840</td>\n",
       "      <td>1.226202</td>\n",
       "      <td>-1.881985</td>\n",
       "      <td>-0.174132</td>\n",
       "      <td>0.818151</td>\n",
       "      <td>1.160652</td>\n",
       "      <td>-0.872004</td>\n",
       "      <td>-0.846536</td>\n",
       "      <td>0.460069</td>\n",
       "      <td>0.854503</td>\n",
       "      <td>-0.401620</td>\n",
       "      <td>0.982186</td>\n",
       "      <td>-1.103746</td>\n",
       "      <td>0.769771</td>\n",
       "      <td>-0.093136</td>\n",
       "      <td>-0.312482</td>\n",
       "      <td>-0.450115</td>\n",
       "      <td>1.207786</td>\n",
       "      <td>0.382336</td>\n",
       "      <td>-0.468787</td>\n",
       "      <td>0.185405</td>\n",
       "      <td>0.054205</td>\n",
       "      <td>0.500452</td>\n",
       "      <td>0.372384</td>\n",
       "      <td>1.228396</td>\n",
       "      <td>-0.773669</td>\n",
       "      <td>-0.269951</td>\n",
       "      <td>0.851330</td>\n",
       "      <td>-0.370734</td>\n",
       "      <td>-0.572810</td>\n",
       "      <td>1.014038</td>\n",
       "      <td>-0.580549</td>\n",
       "      <td>0.950556</td>\n",
       "      <td>-0.731429</td>\n",
       "      <td>0.355093</td>\n",
       "      <td>-0.383835</td>\n",
       "      <td>-0.295616</td>\n",
       "      <td>0.392291</td>\n",
       "      <td>0.160758</td>\n",
       "      <td>0.350210</td>\n",
       "      <td>-0.470500</td>\n",
       "      <td>0.710040</td>\n",
       "      <td>1.215192</td>\n",
       "      <td>-0.188075</td>\n",
       "      <td>-0.878951</td>\n",
       "      <td>-0.052861</td>\n",
       "      <td>-0.425141</td>\n",
       "      <td>-1.621495</td>\n",
       "      <td>-0.396971</td>\n",
       "      <td>0.453755</td>\n",
       "      <td>...</td>\n",
       "      <td>-1.074739</td>\n",
       "      <td>-0.953274</td>\n",
       "      <td>-0.475367</td>\n",
       "      <td>-0.388051</td>\n",
       "      <td>0.009141</td>\n",
       "      <td>0.103553</td>\n",
       "      <td>-0.710915</td>\n",
       "      <td>-0.448076</td>\n",
       "      <td>0.878387</td>\n",
       "      <td>0.235083</td>\n",
       "      <td>0.352965</td>\n",
       "      <td>-0.178614</td>\n",
       "      <td>-1.843765</td>\n",
       "      <td>-0.212106</td>\n",
       "      <td>-0.570797</td>\n",
       "      <td>-0.926800</td>\n",
       "      <td>0.836838</td>\n",
       "      <td>-0.680162</td>\n",
       "      <td>-0.893861</td>\n",
       "      <td>0.599494</td>\n",
       "      <td>-0.595225</td>\n",
       "      <td>-0.383549</td>\n",
       "      <td>0.835390</td>\n",
       "      <td>1.761761</td>\n",
       "      <td>0.125760</td>\n",
       "      <td>-0.132125</td>\n",
       "      <td>0.866873</td>\n",
       "      <td>-0.600032</td>\n",
       "      <td>2.214361</td>\n",
       "      <td>0.698500</td>\n",
       "      <td>0.247440</td>\n",
       "      <td>-1.166430</td>\n",
       "      <td>-0.557828</td>\n",
       "      <td>-1.110381</td>\n",
       "      <td>0.415938</td>\n",
       "      <td>-0.024967</td>\n",
       "      <td>-0.467234</td>\n",
       "      <td>-0.579026</td>\n",
       "      <td>1.558150</td>\n",
       "      <td>-2.113024</td>\n",
       "      <td>-1.367416</td>\n",
       "      <td>0.239665</td>\n",
       "      <td>0.215433</td>\n",
       "      <td>-0.373279</td>\n",
       "      <td>1.575009</td>\n",
       "      <td>0.638675</td>\n",
       "      <td>-0.596894</td>\n",
       "      <td>0.889098</td>\n",
       "      <td>0.624630</td>\n",
       "      <td>1.614139</td>\n",
       "    </tr>\n",
       "    <tr>\n",
       "      <th>12349</th>\n",
       "      <td>-1.260859</td>\n",
       "      <td>2.387742</td>\n",
       "      <td>-0.073068</td>\n",
       "      <td>-1.119069</td>\n",
       "      <td>-0.034365</td>\n",
       "      <td>-3.715200</td>\n",
       "      <td>-0.343812</td>\n",
       "      <td>-0.148754</td>\n",
       "      <td>-0.790413</td>\n",
       "      <td>-0.379014</td>\n",
       "      <td>1.570175</td>\n",
       "      <td>0.182479</td>\n",
       "      <td>0.224448</td>\n",
       "      <td>-0.050740</td>\n",
       "      <td>3.177726</td>\n",
       "      <td>-0.514846</td>\n",
       "      <td>-1.840132</td>\n",
       "      <td>0.380887</td>\n",
       "      <td>0.314556</td>\n",
       "      <td>-0.008057</td>\n",
       "      <td>-0.419399</td>\n",
       "      <td>0.457422</td>\n",
       "      <td>-0.786373</td>\n",
       "      <td>1.753847</td>\n",
       "      <td>-1.476548</td>\n",
       "      <td>0.750818</td>\n",
       "      <td>-0.910373</td>\n",
       "      <td>0.768979</td>\n",
       "      <td>0.509329</td>\n",
       "      <td>-1.345238</td>\n",
       "      <td>0.288692</td>\n",
       "      <td>0.661854</td>\n",
       "      <td>0.089524</td>\n",
       "      <td>-0.210543</td>\n",
       "      <td>-0.679288</td>\n",
       "      <td>-1.523481</td>\n",
       "      <td>0.795988</td>\n",
       "      <td>-1.415155</td>\n",
       "      <td>-0.076540</td>\n",
       "      <td>-0.906351</td>\n",
       "      <td>0.098620</td>\n",
       "      <td>-0.100551</td>\n",
       "      <td>-0.161251</td>\n",
       "      <td>0.735261</td>\n",
       "      <td>1.368662</td>\n",
       "      <td>-0.219132</td>\n",
       "      <td>-0.119900</td>\n",
       "      <td>-0.187246</td>\n",
       "      <td>0.835242</td>\n",
       "      <td>1.721466</td>\n",
       "      <td>...</td>\n",
       "      <td>1.984720</td>\n",
       "      <td>-0.816916</td>\n",
       "      <td>1.820240</td>\n",
       "      <td>0.531328</td>\n",
       "      <td>1.094893</td>\n",
       "      <td>-0.326960</td>\n",
       "      <td>-0.975781</td>\n",
       "      <td>0.872205</td>\n",
       "      <td>1.101062</td>\n",
       "      <td>-0.786393</td>\n",
       "      <td>1.597392</td>\n",
       "      <td>0.316352</td>\n",
       "      <td>-2.421799</td>\n",
       "      <td>-2.113772</td>\n",
       "      <td>0.395067</td>\n",
       "      <td>-2.545474</td>\n",
       "      <td>-2.547157</td>\n",
       "      <td>0.516273</td>\n",
       "      <td>-0.633277</td>\n",
       "      <td>-2.719289</td>\n",
       "      <td>0.893431</td>\n",
       "      <td>-1.082905</td>\n",
       "      <td>1.100015</td>\n",
       "      <td>-0.528303</td>\n",
       "      <td>0.765095</td>\n",
       "      <td>-2.168206</td>\n",
       "      <td>1.002676</td>\n",
       "      <td>-0.083857</td>\n",
       "      <td>-1.656051</td>\n",
       "      <td>1.706962</td>\n",
       "      <td>-0.883322</td>\n",
       "      <td>-2.690096</td>\n",
       "      <td>1.117467</td>\n",
       "      <td>-2.203132</td>\n",
       "      <td>-0.915379</td>\n",
       "      <td>1.433624</td>\n",
       "      <td>0.870927</td>\n",
       "      <td>-4.989873</td>\n",
       "      <td>-1.697029</td>\n",
       "      <td>-0.178207</td>\n",
       "      <td>1.947340</td>\n",
       "      <td>0.927154</td>\n",
       "      <td>1.856710</td>\n",
       "      <td>4.025191</td>\n",
       "      <td>-2.420657</td>\n",
       "      <td>-1.884018</td>\n",
       "      <td>-2.681383</td>\n",
       "      <td>1.833679</td>\n",
       "      <td>0.478056</td>\n",
       "      <td>-0.407825</td>\n",
       "    </tr>\n",
       "    <tr>\n",
       "      <th>12350</th>\n",
       "      <td>-4.929319</td>\n",
       "      <td>-0.714873</td>\n",
       "      <td>-1.580904</td>\n",
       "      <td>-0.469924</td>\n",
       "      <td>-0.116364</td>\n",
       "      <td>0.647980</td>\n",
       "      <td>0.112872</td>\n",
       "      <td>-1.336355</td>\n",
       "      <td>1.547054</td>\n",
       "      <td>-1.190440</td>\n",
       "      <td>-0.213164</td>\n",
       "      <td>1.057978</td>\n",
       "      <td>-0.475222</td>\n",
       "      <td>0.856756</td>\n",
       "      <td>-1.305362</td>\n",
       "      <td>0.242266</td>\n",
       "      <td>0.268725</td>\n",
       "      <td>1.952552</td>\n",
       "      <td>-0.227657</td>\n",
       "      <td>0.571338</td>\n",
       "      <td>-0.186077</td>\n",
       "      <td>0.905119</td>\n",
       "      <td>1.363727</td>\n",
       "      <td>0.179568</td>\n",
       "      <td>-0.259090</td>\n",
       "      <td>-0.168340</td>\n",
       "      <td>-0.684958</td>\n",
       "      <td>1.087527</td>\n",
       "      <td>-0.153032</td>\n",
       "      <td>-0.398988</td>\n",
       "      <td>0.237813</td>\n",
       "      <td>0.633195</td>\n",
       "      <td>-1.446609</td>\n",
       "      <td>-0.183328</td>\n",
       "      <td>-0.317974</td>\n",
       "      <td>-0.300933</td>\n",
       "      <td>-1.361827</td>\n",
       "      <td>0.003148</td>\n",
       "      <td>0.571150</td>\n",
       "      <td>-0.257187</td>\n",
       "      <td>0.595285</td>\n",
       "      <td>-0.219992</td>\n",
       "      <td>0.275445</td>\n",
       "      <td>0.528773</td>\n",
       "      <td>-0.527346</td>\n",
       "      <td>-0.122843</td>\n",
       "      <td>-1.470133</td>\n",
       "      <td>0.122442</td>\n",
       "      <td>0.160191</td>\n",
       "      <td>-0.667328</td>\n",
       "      <td>...</td>\n",
       "      <td>1.629153</td>\n",
       "      <td>-0.370233</td>\n",
       "      <td>0.553163</td>\n",
       "      <td>0.547101</td>\n",
       "      <td>-0.461066</td>\n",
       "      <td>-0.052224</td>\n",
       "      <td>-1.653005</td>\n",
       "      <td>0.208497</td>\n",
       "      <td>0.725810</td>\n",
       "      <td>-0.201547</td>\n",
       "      <td>0.394869</td>\n",
       "      <td>0.345492</td>\n",
       "      <td>-0.129308</td>\n",
       "      <td>-0.262644</td>\n",
       "      <td>-0.507991</td>\n",
       "      <td>0.219254</td>\n",
       "      <td>-0.026352</td>\n",
       "      <td>0.533871</td>\n",
       "      <td>-0.525537</td>\n",
       "      <td>0.985563</td>\n",
       "      <td>0.160483</td>\n",
       "      <td>-0.695214</td>\n",
       "      <td>-0.161369</td>\n",
       "      <td>-0.398279</td>\n",
       "      <td>-1.240552</td>\n",
       "      <td>-0.061055</td>\n",
       "      <td>0.044316</td>\n",
       "      <td>0.043731</td>\n",
       "      <td>0.367723</td>\n",
       "      <td>-0.280653</td>\n",
       "      <td>0.098431</td>\n",
       "      <td>0.070583</td>\n",
       "      <td>-0.151277</td>\n",
       "      <td>0.525264</td>\n",
       "      <td>-0.038151</td>\n",
       "      <td>-1.065094</td>\n",
       "      <td>0.785042</td>\n",
       "      <td>-0.028119</td>\n",
       "      <td>-0.267312</td>\n",
       "      <td>-1.183372</td>\n",
       "      <td>-0.983603</td>\n",
       "      <td>0.569077</td>\n",
       "      <td>0.536519</td>\n",
       "      <td>0.117882</td>\n",
       "      <td>0.283692</td>\n",
       "      <td>-1.527444</td>\n",
       "      <td>1.306706</td>\n",
       "      <td>-0.397176</td>\n",
       "      <td>1.944731</td>\n",
       "      <td>-0.124762</td>\n",
       "    </tr>\n",
       "    <tr>\n",
       "      <th>12352</th>\n",
       "      <td>-2.053124</td>\n",
       "      <td>2.110891</td>\n",
       "      <td>0.184829</td>\n",
       "      <td>0.128487</td>\n",
       "      <td>0.087758</td>\n",
       "      <td>-1.943866</td>\n",
       "      <td>2.383914</td>\n",
       "      <td>0.898694</td>\n",
       "      <td>-0.671439</td>\n",
       "      <td>0.081802</td>\n",
       "      <td>0.875029</td>\n",
       "      <td>1.051095</td>\n",
       "      <td>-0.741356</td>\n",
       "      <td>-2.073231</td>\n",
       "      <td>-0.634505</td>\n",
       "      <td>0.018906</td>\n",
       "      <td>0.112213</td>\n",
       "      <td>0.577331</td>\n",
       "      <td>-0.025369</td>\n",
       "      <td>0.111059</td>\n",
       "      <td>-0.690343</td>\n",
       "      <td>-0.911381</td>\n",
       "      <td>-2.328405</td>\n",
       "      <td>0.507508</td>\n",
       "      <td>-1.762722</td>\n",
       "      <td>0.236222</td>\n",
       "      <td>-1.066604</td>\n",
       "      <td>-1.808310</td>\n",
       "      <td>-0.941277</td>\n",
       "      <td>2.091679</td>\n",
       "      <td>-0.154704</td>\n",
       "      <td>2.227400</td>\n",
       "      <td>2.221424</td>\n",
       "      <td>-0.577390</td>\n",
       "      <td>2.454587</td>\n",
       "      <td>1.345047</td>\n",
       "      <td>0.177208</td>\n",
       "      <td>-0.408115</td>\n",
       "      <td>1.796413</td>\n",
       "      <td>1.167534</td>\n",
       "      <td>-0.957997</td>\n",
       "      <td>-0.884109</td>\n",
       "      <td>-1.107747</td>\n",
       "      <td>-0.074608</td>\n",
       "      <td>-0.910502</td>\n",
       "      <td>-2.212299</td>\n",
       "      <td>-1.524007</td>\n",
       "      <td>-1.433919</td>\n",
       "      <td>0.898110</td>\n",
       "      <td>0.240195</td>\n",
       "      <td>...</td>\n",
       "      <td>1.104653</td>\n",
       "      <td>0.383538</td>\n",
       "      <td>2.772909</td>\n",
       "      <td>-3.262716</td>\n",
       "      <td>0.598136</td>\n",
       "      <td>0.520920</td>\n",
       "      <td>-1.435976</td>\n",
       "      <td>2.679511</td>\n",
       "      <td>0.661984</td>\n",
       "      <td>-2.641763</td>\n",
       "      <td>-2.909188</td>\n",
       "      <td>2.168624</td>\n",
       "      <td>0.813781</td>\n",
       "      <td>-6.846682</td>\n",
       "      <td>-1.840964</td>\n",
       "      <td>-4.135179</td>\n",
       "      <td>-3.613989</td>\n",
       "      <td>-1.726562</td>\n",
       "      <td>-2.682974</td>\n",
       "      <td>-6.742039</td>\n",
       "      <td>-0.296143</td>\n",
       "      <td>2.735570</td>\n",
       "      <td>-8.314978</td>\n",
       "      <td>4.844795</td>\n",
       "      <td>4.099815</td>\n",
       "      <td>5.124405</td>\n",
       "      <td>-5.292970</td>\n",
       "      <td>-0.020080</td>\n",
       "      <td>-7.410505</td>\n",
       "      <td>12.497810</td>\n",
       "      <td>5.064353</td>\n",
       "      <td>3.873248</td>\n",
       "      <td>18.078183</td>\n",
       "      <td>10.552885</td>\n",
       "      <td>5.020689</td>\n",
       "      <td>13.973747</td>\n",
       "      <td>9.256092</td>\n",
       "      <td>7.996176</td>\n",
       "      <td>-0.173125</td>\n",
       "      <td>1.247230</td>\n",
       "      <td>-1.187113</td>\n",
       "      <td>-4.949647</td>\n",
       "      <td>-5.463533</td>\n",
       "      <td>2.384421</td>\n",
       "      <td>-0.625414</td>\n",
       "      <td>-0.334743</td>\n",
       "      <td>-2.332496</td>\n",
       "      <td>-6.182022</td>\n",
       "      <td>-0.422177</td>\n",
       "      <td>-0.703869</td>\n",
       "    </tr>\n",
       "  </tbody>\n",
       "</table>\n",
       "<p>5 rows × 125 columns</p>\n",
       "</div>"
      ],
      "text/plain": [
       "                 PC1       PC2       PC3       PC4       PC5        PC6  \\\n",
       "CustomerID                                                                \n",
       "12347       5.876141  4.828917 -0.495520  3.093817 -0.633708 -11.534084   \n",
       "12348      -4.219840  1.226202 -1.881985 -0.174132  0.818151   1.160652   \n",
       "12349      -1.260859  2.387742 -0.073068 -1.119069 -0.034365  -3.715200   \n",
       "12350      -4.929319 -0.714873 -1.580904 -0.469924 -0.116364   0.647980   \n",
       "12352      -2.053124  2.110891  0.184829  0.128487  0.087758  -1.943866   \n",
       "\n",
       "                 PC7       PC8       PC9      PC10      PC11      PC12  \\\n",
       "CustomerID                                                               \n",
       "12347       2.161867  7.116915  5.336035  4.424213  4.636869  2.316706   \n",
       "12348      -0.872004 -0.846536  0.460069  0.854503 -0.401620  0.982186   \n",
       "12349      -0.343812 -0.148754 -0.790413 -0.379014  1.570175  0.182479   \n",
       "12350       0.112872 -1.336355  1.547054 -1.190440 -0.213164  1.057978   \n",
       "12352       2.383914  0.898694 -0.671439  0.081802  0.875029  1.051095   \n",
       "\n",
       "                 PC13      PC14       PC15      PC16      PC17      PC18  \\\n",
       "CustomerID                                                                 \n",
       "12347       12.310705  1.986308 -11.431522  5.617799 -2.177107  7.666105   \n",
       "12348       -1.103746  0.769771  -0.093136 -0.312482 -0.450115  1.207786   \n",
       "12349        0.224448 -0.050740   3.177726 -0.514846 -1.840132  0.380887   \n",
       "12350       -0.475222  0.856756  -1.305362  0.242266  0.268725  1.952552   \n",
       "12352       -0.741356 -2.073231  -0.634505  0.018906  0.112213  0.577331   \n",
       "\n",
       "                 PC19       PC20      PC21      PC22       PC23       PC24  \\\n",
       "CustomerID                                                                   \n",
       "12347      -12.135046 -16.048437 -5.949357  7.814667  40.517965 -35.573959   \n",
       "12348        0.382336  -0.468787  0.185405  0.054205   0.500452   0.372384   \n",
       "12349        0.314556  -0.008057 -0.419399  0.457422  -0.786373   1.753847   \n",
       "12350       -0.227657   0.571338 -0.186077  0.905119   1.363727   0.179568   \n",
       "12352       -0.025369   0.111059 -0.690343 -0.911381  -2.328405   0.507508   \n",
       "\n",
       "                 PC25      PC26       PC27      PC28       PC29       PC30  \\\n",
       "CustomerID                                                                   \n",
       "12347      -17.558449  6.870565  20.886988  2.297317 -26.157811 -32.582580   \n",
       "12348        1.228396 -0.773669  -0.269951  0.851330  -0.370734  -0.572810   \n",
       "12349       -1.476548  0.750818  -0.910373  0.768979   0.509329  -1.345238   \n",
       "12350       -0.259090 -0.168340  -0.684958  1.087527  -0.153032  -0.398988   \n",
       "12352       -1.762722  0.236222  -1.066604 -1.808310  -0.941277   2.091679   \n",
       "\n",
       "                PC31       PC32      PC33       PC34      PC35       PC36  \\\n",
       "CustomerID                                                                  \n",
       "12347       7.874842  12.357173  6.824944 -32.957841 -4.408964 -17.236616   \n",
       "12348       1.014038  -0.580549  0.950556  -0.731429  0.355093  -0.383835   \n",
       "12349       0.288692   0.661854  0.089524  -0.210543 -0.679288  -1.523481   \n",
       "12350       0.237813   0.633195 -1.446609  -0.183328 -0.317974  -0.300933   \n",
       "12352      -0.154704   2.227400  2.221424  -0.577390  2.454587   1.345047   \n",
       "\n",
       "                 PC37       PC38      PC39      PC40      PC41      PC42  \\\n",
       "CustomerID                                                                 \n",
       "12347      -11.270894 -14.488724 -2.775591  4.727806 -6.982853 -1.468485   \n",
       "12348       -0.295616   0.392291  0.160758  0.350210 -0.470500  0.710040   \n",
       "12349        0.795988  -1.415155 -0.076540 -0.906351  0.098620 -0.100551   \n",
       "12350       -1.361827   0.003148  0.571150 -0.257187  0.595285 -0.219992   \n",
       "12352        0.177208  -0.408115  1.796413  1.167534 -0.957997 -0.884109   \n",
       "\n",
       "                 PC43      PC44      PC45      PC46      PC47      PC48  \\\n",
       "CustomerID                                                                \n",
       "12347       10.604515  1.233745  3.087750  5.339555 -0.425263  1.640998   \n",
       "12348        1.215192 -0.188075 -0.878951 -0.052861 -0.425141 -1.621495   \n",
       "12349       -0.161251  0.735261  1.368662 -0.219132 -0.119900 -0.187246   \n",
       "12350        0.275445  0.528773 -0.527346 -0.122843 -1.470133  0.122442   \n",
       "12352       -1.107747 -0.074608 -0.910502 -2.212299 -1.524007 -1.433919   \n",
       "\n",
       "                PC49      PC50    ...         PC76      PC77      PC78  \\\n",
       "CustomerID                        ...                                    \n",
       "12347      -6.375707  3.056444    ...     2.417069  2.397380 -0.941841   \n",
       "12348      -0.396971  0.453755    ...    -1.074739 -0.953274 -0.475367   \n",
       "12349       0.835242  1.721466    ...     1.984720 -0.816916  1.820240   \n",
       "12350       0.160191 -0.667328    ...     1.629153 -0.370233  0.553163   \n",
       "12352       0.898110  0.240195    ...     1.104653  0.383538  2.772909   \n",
       "\n",
       "                PC79      PC80      PC81      PC82      PC83      PC84  \\\n",
       "CustomerID                                                               \n",
       "12347      -1.771471 -1.891056  1.426720  0.514714 -1.329238 -2.070995   \n",
       "12348      -0.388051  0.009141  0.103553 -0.710915 -0.448076  0.878387   \n",
       "12349       0.531328  1.094893 -0.326960 -0.975781  0.872205  1.101062   \n",
       "12350       0.547101 -0.461066 -0.052224 -1.653005  0.208497  0.725810   \n",
       "12352      -3.262716  0.598136  0.520920 -1.435976  2.679511  0.661984   \n",
       "\n",
       "                PC85      PC86      PC87      PC88      PC89      PC90  \\\n",
       "CustomerID                                                               \n",
       "12347      -3.567318  0.420106 -1.873773  0.608644  0.225148  1.247913   \n",
       "12348       0.235083  0.352965 -0.178614 -1.843765 -0.212106 -0.570797   \n",
       "12349      -0.786393  1.597392  0.316352 -2.421799 -2.113772  0.395067   \n",
       "12350      -0.201547  0.394869  0.345492 -0.129308 -0.262644 -0.507991   \n",
       "12352      -2.641763 -2.909188  2.168624  0.813781 -6.846682 -1.840964   \n",
       "\n",
       "                PC91      PC92      PC93      PC94      PC95      PC96  \\\n",
       "CustomerID                                                               \n",
       "12347      -2.008220  0.508903  0.004995 -0.315268  0.493796 -0.405389   \n",
       "12348      -0.926800  0.836838 -0.680162 -0.893861  0.599494 -0.595225   \n",
       "12349      -2.545474 -2.547157  0.516273 -0.633277 -2.719289  0.893431   \n",
       "12350       0.219254 -0.026352  0.533871 -0.525537  0.985563  0.160483   \n",
       "12352      -4.135179 -3.613989 -1.726562 -2.682974 -6.742039 -0.296143   \n",
       "\n",
       "                PC97      PC98      PC99     PC100     PC101     PC102  \\\n",
       "CustomerID                                                               \n",
       "12347      -0.400921  0.165516  0.615358 -0.013867  1.057333 -0.975530   \n",
       "12348      -0.383549  0.835390  1.761761  0.125760 -0.132125  0.866873   \n",
       "12349      -1.082905  1.100015 -0.528303  0.765095 -2.168206  1.002676   \n",
       "12350      -0.695214 -0.161369 -0.398279 -1.240552 -0.061055  0.044316   \n",
       "12352       2.735570 -8.314978  4.844795  4.099815  5.124405 -5.292970   \n",
       "\n",
       "               PC103     PC104      PC105     PC106     PC107      PC108  \\\n",
       "CustomerID                                                                 \n",
       "12347      -0.679759 -0.081903   1.241244 -0.159342 -0.270531  -0.371727   \n",
       "12348      -0.600032  2.214361   0.698500  0.247440 -1.166430  -0.557828   \n",
       "12349      -0.083857 -1.656051   1.706962 -0.883322 -2.690096   1.117467   \n",
       "12350       0.043731  0.367723  -0.280653  0.098431  0.070583  -0.151277   \n",
       "12352      -0.020080 -7.410505  12.497810  5.064353  3.873248  18.078183   \n",
       "\n",
       "                PC109     PC110      PC111     PC112     PC113     PC114  \\\n",
       "CustomerID                                                                 \n",
       "12347        1.309280 -0.349017   0.671297  0.586811  0.958931 -0.049154   \n",
       "12348       -1.110381  0.415938  -0.024967 -0.467234 -0.579026  1.558150   \n",
       "12349       -2.203132 -0.915379   1.433624  0.870927 -4.989873 -1.697029   \n",
       "12350        0.525264 -0.038151  -1.065094  0.785042 -0.028119 -0.267312   \n",
       "12352       10.552885  5.020689  13.973747  9.256092  7.996176 -0.173125   \n",
       "\n",
       "               PC115     PC116     PC117     PC118     PC119     PC120  \\\n",
       "CustomerID                                                               \n",
       "12347       0.002232  0.302355 -0.472515  0.476504 -0.224732 -0.200536   \n",
       "12348      -2.113024 -1.367416  0.239665  0.215433 -0.373279  1.575009   \n",
       "12349      -0.178207  1.947340  0.927154  1.856710  4.025191 -2.420657   \n",
       "12350      -1.183372 -0.983603  0.569077  0.536519  0.117882  0.283692   \n",
       "12352       1.247230 -1.187113 -4.949647 -5.463533  2.384421 -0.625414   \n",
       "\n",
       "               PC121     PC122     PC123     PC124     PC125  \n",
       "CustomerID                                                    \n",
       "12347      -0.027148 -0.042364 -0.423895  0.035813 -0.008695  \n",
       "12348       0.638675 -0.596894  0.889098  0.624630  1.614139  \n",
       "12349      -1.884018 -2.681383  1.833679  0.478056 -0.407825  \n",
       "12350      -1.527444  1.306706 -0.397176  1.944731 -0.124762  \n",
       "12352      -0.334743 -2.332496 -6.182022 -0.422177 -0.703869  \n",
       "\n",
       "[5 rows x 125 columns]"
      ]
     },
     "execution_count": 95,
     "metadata": {},
     "output_type": "execute_result"
    }
   ],
   "source": [
    "# Put PC_items into a dataframe\n",
    "items_pca = pd.DataFrame(PC_items)\n",
    "\n",
    "# Name the columns\n",
    "items_pca.columns = ['PC{}'.format(i+1) for i in range(PC_items.shape[1])]\n",
    "\n",
    "# Update its index\n",
    "items_pca.index = item_data.index\n",
    "\n",
    "# Display first 5 rows\n",
    "print(items_pca.shape)\n",
    "print(item_data.shape)\n",
    "items_pca.head()"
   ]
  },
  {
   "cell_type": "markdown",
   "metadata": {},
   "source": [
    "**Finally, save this item dataframe with PCA features as <code style=\"color:crimson\">'pca_item_data.csv'</code>.**\n",
    "* In <span style=\"color:royalblue\">Module 4</span>, we'll compare the clusters made from using these features against those in <code style=\"color:crimson\">'threshold_item_data.csv'</code>.\n",
    "* Do **not** set <code style=\"color:steelblue\">index=None</code> because we want to keep the CustomerID's as the index."
   ]
  },
  {
   "cell_type": "code",
   "execution_count": 96,
   "metadata": {
    "collapsed": true
   },
   "outputs": [],
   "source": [
    "# Save pca_item_data.csv\n",
    "items_pca.to_csv('project_files/pca_item_data.csv')"
   ]
  },
  {
   "cell_type": "markdown",
   "metadata": {},
   "source": [
    "<p style=\"text-align:center; margin: 40px 0 40px 0; font-weight:bold\">\n",
    "<a href=\"#toc\">Back to Contents</a>\n",
    "</p>"
   ]
  },
  {
   "cell_type": "markdown",
   "metadata": {},
   "source": [
    "<br>\n",
    "## Next Steps\n",
    "\n",
    "Congratulations for making it through Project 4's Principal Component Analysis!\n",
    "\n",
    "As a reminder, here are a few things you did in this module:\n",
    "* You saw how PCA works on an oval blob.\n",
    "* You contrasted plots of the original features against plots of the principal component features.\n",
    "* You learned how to intepret cumulative explained variance.\n",
    "* And you reduced the dimensionality of the item dataset using PCA.\n",
    "\n",
    "In the next module, <span style=\"color:royalblue\">Module 4: Cluster Analysis</span>, we'll see how different feature sets lead to different clusters. We'll apply K-Means clustering to the analytical base table, the threshold item features, and the PCA item features.\n",
    "\n",
    "<p style=\"text-align:center; margin: 40px 0 40px 0; font-weight:bold\">\n",
    "<a href=\"#toc\">Back to Contents</a>\n",
    "</p>"
   ]
  }
 ],
 "metadata": {
  "kernelspec": {
   "display_name": "Python 3",
   "language": "python",
   "name": "python3"
  },
  "language_info": {
   "codemirror_mode": {
    "name": "ipython",
    "version": 3
   },
   "file_extension": ".py",
   "mimetype": "text/x-python",
   "name": "python",
   "nbconvert_exporter": "python",
   "pygments_lexer": "ipython3",
   "version": "3.6.3"
  }
 },
 "nbformat": 4,
 "nbformat_minor": 1
}
