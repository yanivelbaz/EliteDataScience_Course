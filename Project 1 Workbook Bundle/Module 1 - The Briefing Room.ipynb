{
 "cells": [
  {
   "cell_type": "markdown",
   "metadata": {},
   "source": [
    "<h1 style=\"font-size:42px; text-align:center; margin-bottom:30px;\"><span style=\"color:SteelBlue\">Module 1:</span> The Briefing Room</h1>\n",
    "<hr>\n",
    "\n",
    "Welcome to your first **Companion Workbook** for the course!\n",
    "\n",
    "Companion Workbooks are Jupyter notebooks set up for you to do 3 things:\n",
    "1. Practice writing key lesson code for yourself.\n",
    "2. Run any \"mission-critical\" code needed to complete the project.\n",
    "3. Complete the exercises throughout this course.\n",
    "\n",
    "As you'll notice, some workbooks will be longer and others will be shorter. Some modules won't even have Companion Workbooks. For those, the focus is on introducing concepts you'll apply later.\n",
    "\n",
    "### Instructions\n",
    "\n",
    "As you go through the online lessons, follow along in the Companion Workbooks. We recommend reading the lesson first, then completing its accompanying section in the workbook.\n",
    "\n",
    "In this first Companion Workbook, for <span style=\"color:royalblue\">Module 1: The Briefing Room</span>, you won't be writing a lot of code.\n",
    "\n",
    "Instead, we'll mainly be introducing you to some key functionality in Jupyter notebooks, and then confirming you have all the required libraries properly installed.\n",
    "\n",
    "<br><hr id=\"toc\">\n",
    "\n",
    "### In this module...\n",
    "\n",
    "In this module, we'll arm you with the best tools for tackling machine learning.\n",
    "\n",
    "We'll cover...\n",
    "\n",
    "1. [Intro to Practical Machine Learning](#intro)\n",
    "2. [The Machine Learning Masterclass](#masterclass)\n",
    "3. [Your Arsenal](#arsenal)\n",
    "4. [How to Crush this Course](#crush) (like the HULK)\n",
    "\n",
    "Alright... Let's dive right in!\n",
    "\n",
    "<hr>"
   ]
  },
  {
   "cell_type": "markdown",
   "metadata": {},
   "source": [
    "<br id=\"intro\">\n",
    "# 1. Intro to Practical Machine Learning\n",
    "\n",
    "Nothing to do for this lesson."
   ]
  },
  {
   "cell_type": "markdown",
   "metadata": {},
   "source": [
    "<br id=\"masterclass\">\n",
    "# 2. The Machine Learning Masterclass\n",
    "\n",
    "Running Python code in Jupyter Notebooks is very simple. \n",
    "\n",
    "<hr>\n",
    "\n",
    "**1.) First, make sure the cell type is a <code style=\"color:steelblue\">Code</code> cell.**\n",
    "* You can look at the toolbar at the top of the notebook to confirm. \n",
    "* Code cells also have gray backgrounds.\n",
    "\n",
    "**2.) Next, click the code cell to place your cursor inside it.** \n",
    "\n",
    "**3.) Finally, press <code style=\"color:steelblue\">Shift + Enter<code> on your keyboard to run the cell.**\n",
    "* If there's 1 shortcut you remember, please make it this one. It will save you a lot of time.\n",
    "\n",
    "<hr>\n",
    "\n",
    "Give it a try with the cell below. It should display the number <code style=\"color:steelblue\">2</code> right below the cell. "
   ]
  },
  {
   "cell_type": "code",
   "execution_count": 2,
   "metadata": {},
   "outputs": [
    {
     "data": {
      "text/plain": [
       "2"
      ]
     },
     "execution_count": 2,
     "metadata": {},
     "output_type": "execute_result"
    }
   ],
   "source": [
    "# 1. This cell has a gray background, so it's a Code cell\n",
    "# 2. Click anywhere in this cell to place your cursor in it\n",
    "# 3. Press Shift + Enter on your keyboard\n",
    "1 + 1"
   ]
  },
  {
   "cell_type": "markdown",
   "metadata": {},
   "source": [
    "**Tip:** You can insert more code cells using the **Insert > Insert Cell Above / Below** dropdown in the toolbar.\n",
    "\n",
    "**Tip:** You can also delete cells by clicking the cell you'd like to delete, then using the **Edit > Delete Cells** dropdown in the toolbar.\n",
    "\n",
    "**Try inserting a new code cell below this one, running some code in it (any code), and then deleting the cell.**"
   ]
  },
  {
   "cell_type": "markdown",
   "metadata": {},
   "source": [
    "<br id=\"arsenal\">\n",
    "# 3. Your Arsenal\n",
    "\n",
    "Now it's time to introduce the incredible suite of Python libraries for machine learning. \n",
    "\n",
    "You'll practice using them over the entire course, so right now we'll just introduce them and check that they are installed correctly."
   ]
  },
  {
   "cell_type": "markdown",
   "metadata": {},
   "source": [
    "First, run the cell below if you're using **Python 2**. \n",
    "* If you're using **Python 3**, running the cell won't do anything.\n",
    "* Remember, to run a code cell, click anywhere in the cell, then press <code style=\"color:steelblue\">Shift + Enter</code> on your keyboard.\n"
   ]
  },
  {
   "cell_type": "code",
   "execution_count": 4,
   "metadata": {},
   "outputs": [
    {
     "name": "stdout",
     "output_type": "stream",
     "text": [
      "print() function ready to serve\n"
     ]
    }
   ],
   "source": [
    "from __future__ import print_function  # Compatability with Python 3\n",
    "print( 'print() function ready to serve' )"
   ]
  },
  {
   "cell_type": "markdown",
   "metadata": {},
   "source": [
    "\n",
    "\n",
    "Next, let's import NumPy and Pandas and check their versions."
   ]
  },
  {
   "cell_type": "code",
   "execution_count": null,
   "metadata": {},
   "outputs": [],
   "source": [
    "import numpy as np\n",
    "print( 'NumPy version:', np.__version__, ' (At least 1.11.0 is recommended)' )\n",
    "\n",
    "import pandas as pd\n",
    "print( 'Pandas version:', pd.__version__, ' (At least 0.19.0 is recommended)' )"
   ]
  },
  {
   "cell_type": "markdown",
   "metadata": {},
   "source": [
    "If you run into an <code style=\"color:crimson\">ImportError</code>, or if your version is outdated, please check the Quickstart Guide included in this course for instructions."
   ]
  },
  {
   "cell_type": "markdown",
   "metadata": {},
   "source": [
    "Next, we have 2 essential libraries for data visualization."
   ]
  },
  {
   "cell_type": "code",
   "execution_count": null,
   "metadata": {},
   "outputs": [],
   "source": [
    "import matplotlib\n",
    "print( 'Matplotlib version:', matplotlib.__version__, ' (At least 1.5.0 is recommended)' )\n",
    "\n",
    "import seaborn as sns\n",
    "print( 'Seaborn version:', sns.__version__, ' (At least 0.7.0 is recommended)' )"
   ]
  },
  {
   "cell_type": "markdown",
   "metadata": {},
   "source": [
    "If you run into an <code style=\"color:crimson\">ImportError</code>, or if your version is outdated, please check the Quickstart Guide included in this course for instructions."
   ]
  },
  {
   "cell_type": "markdown",
   "metadata": {},
   "source": [
    "And finally, **Scikit-Learn**, \"the Aston Marton of Python machine learning.\" library is the same. "
   ]
  },
  {
   "cell_type": "code",
   "execution_count": 3,
   "metadata": {
    "scrolled": true
   },
   "outputs": [
    {
     "name": "stdout",
     "output_type": "stream",
     "text": [
      "Scikit-Learn version: 0.19.1  (At least 0.18.0 is recommended)\n"
     ]
    }
   ],
   "source": [
    "import sklearn\n",
    "print( 'Scikit-Learn version:', sklearn.__version__, ' (At least 0.18.0 is recommended)' )"
   ]
  },
  {
   "cell_type": "markdown",
   "metadata": {},
   "source": [
    "If you run into an <code style=\"color:crimson\">ImportError</code>, or if your version is outdated, please check the Quickstart Guide included in this course for instructions."
   ]
  },
  {
   "cell_type": "markdown",
   "metadata": {
    "collapsed": true
   },
   "source": [
    "<br id=\"crush\">\n",
    "# 4. How to Crush this Course\n",
    "\n",
    "Your Companion Workbook will note when you need to run lesson code. \n",
    "\n",
    "For example, let's print if 5 is divisible by 2:"
   ]
  },
  {
   "cell_type": "code",
   "execution_count": 1,
   "metadata": {},
   "outputs": [
    {
     "name": "stdout",
     "output_type": "stream",
     "text": [
      "5 is not divisible by 2. The remainder is 1.\n"
     ]
    }
   ],
   "source": [
    "# Print if 5 is divisible by 2\n",
    "if 5 % 2 == 0:\n",
    "    print( '5 is divisible by 2.' )\n",
    "else:\n",
    "    print( '5 is not divisible by 2. The remainder is {}.'.format(5 % 2) )"
   ]
  },
  {
   "cell_type": "markdown",
   "metadata": {},
   "source": [
    "<br>\n",
    "## Next Steps\n",
    "\n",
    "Hey, you reached the end of the first module... Nice job!\n",
    "\n",
    "Here are a few of things you did in this module:\n",
    "* You learned the difference between practical and academic machine learning.\n",
    "* You saw our mantra: \n",
    "\n",
    "> <em style=\"color:royalblue\">Algorithms are commodities.</em>\n",
    "\n",
    "* You imported the \"Aston Martin of Python machine learning\"... Scikit-Learn.\n",
    "* And you got a few tips on how to crush this course like the <span style=\"color:forestgreen; font-weight:bold\">HULK</span> would.\n",
    "\n",
    "The next module contains the Python Crash Course, so get ready to roll up your sleeves and write some code."
   ]
  }
 ],
 "metadata": {
  "anaconda-cloud": {},
  "kernelspec": {
   "display_name": "Python 3",
   "language": "python",
   "name": "python3"
  },
  "language_info": {
   "codemirror_mode": {
    "name": "ipython",
    "version": 3
   },
   "file_extension": ".py",
   "mimetype": "text/x-python",
   "name": "python",
   "nbconvert_exporter": "python",
   "pygments_lexer": "ipython3",
   "version": "3.6.3"
  }
 },
 "nbformat": 4,
 "nbformat_minor": 1
}
